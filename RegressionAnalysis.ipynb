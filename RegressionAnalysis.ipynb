{
 "cells": [
  {
   "cell_type": "code",
   "execution_count": null,
   "id": "28d2dac8-ee12-4591-8a08-aa99ad1a06b5",
   "metadata": {},
   "outputs": [],
   "source": [
    "from ucimlrepo import fetch_ucirepo \n",
    "import numpy as np\n",
    "import pandas as pd\n",
    "  \n",
    "# fetch dataset \n",
    "computer_hardware = fetch_ucirepo(id=29) \n",
    "  \n",
    "# import data (pandas dataframe) \n",
    "data = computer_hardware.data.features[]\n",
    "print(data.head())"
   ]
  },
  {
   "cell_type": "code",
   "execution_count": null,
   "id": "b1bebd9f-4c13-4806-8e39-41765788ce6e",
   "metadata": {},
   "outputs": [],
   "source": [
    "# Split data"
   ]
  },
  {
   "cell_type": "code",
   "execution_count": null,
   "id": "cc7efdc2-a9db-4aa5-abe0-78d2bf6dab62",
   "metadata": {},
   "outputs": [],
   "source": [
    "# fit full regression model\n",
    "from sklearn.linear_model import LinearRegression"
   ]
  }
 ],
 "metadata": {
  "kernelspec": {
   "display_name": "Python 3 (ipykernel)",
   "language": "python",
   "name": "python3"
  },
  "language_info": {
   "codemirror_mode": {
    "name": "ipython",
    "version": 3
   },
   "file_extension": ".py",
   "mimetype": "text/x-python",
   "name": "python",
   "nbconvert_exporter": "python",
   "pygments_lexer": "ipython3",
   "version": "3.12.4"
  }
 },
 "nbformat": 4,
 "nbformat_minor": 5
}
