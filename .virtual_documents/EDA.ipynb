





from ucimlrepo import fetch_ucirepo 
import numpy as np
import pandas as pd
import matplotlib.pyplot as plt
import seaborn as sns
sns.set_theme()
  
# fetch dataset 
computer_hardware = fetch_ucirepo(id=29) 
  
# import data (pandas dataframe) 
data = computer_hardware.data.features
print(data.head())


# data information
print(data.info())


# variable information/descriptions
print(computer_hardware.variables)





sns.histplot(data, x = 'MYCT')
plt.title('Histogram: Machine Cycle Time (MYCT)')
plt.xlabel('MYCT (nanoseconds)')


sns.histplot(data, x = 'MMIN')
plt.title('Histogram: Minimum Main Memory (MMIN)')
plt.xlabel('MMIN (kilobytes)')


sns.histplot(data, x = 'MMAX')
plt.title('Histogram: Maximum Main Memory (MMAX)')
plt.xlabel('MMAX (kilobytes)')


sns.histplot(data, x = 'CACH')
plt.title('Histogram: Cache Memory (CACH)')
plt.xlabel('CACH (kilobytes)')


sns.histplot(data, x = 'CHMIN')
plt.title('Histogram: Minimum Channels (CHMIN)')
plt.xlabel('CHMIN (units)')


sns.histplot(data, x = 'CHMAX')
plt.title('Histogram: Maximum Channels (CHMAX)')
plt.xlabel('CHMAX (units)')


sns.histplot(data, x = 'PRP')
plt.title('Histogram: Published Relative Performance (PRP)')
plt.xlabel('PRP')





sns.countplot(data, x = 'VendorName')
plt.title('Bar plot: Vendors Frequency')
plt.xticks(rotation=90);


sns.barplot(data, x = 'VendorName', y = 'PRP')
plt.title('Bar plot: PRP by Vendor')
plt.xticks(rotation=90);
