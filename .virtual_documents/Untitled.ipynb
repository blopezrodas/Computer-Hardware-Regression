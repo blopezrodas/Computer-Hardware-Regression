from ucimlrepo import fetch_ucirepo 
import numpy as np
import pandas as pd
  
# fetch dataset 
computer_hardware = fetch_ucirepo(id=29) 
  
# import data (pandas dataframe) 
data = computer_hardware.data.features[]
print(data.head())


# Split data


# fit full regression model
from sklearn.linear_model import LinearRegression
